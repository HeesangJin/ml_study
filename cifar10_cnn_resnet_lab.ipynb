{
  "nbformat": 4,
  "nbformat_minor": 0,
  "metadata": {
    "colab": {
      "name": "cifar10_cnn_resnet_lab.ipynb",
      "provenance": [],
      "authorship_tag": "ABX9TyN4SfKB4a61M5vMcGkbhhKN",
      "include_colab_link": true
    },
    "kernelspec": {
      "name": "python3",
      "display_name": "Python 3"
    },
    "language_info": {
      "name": "python"
    },
    "accelerator": "GPU",
    "gpuClass": "standard"
  },
  "cells": [
    {
      "cell_type": "markdown",
      "metadata": {
        "id": "view-in-github",
        "colab_type": "text"
      },
      "source": [
        "<a href=\"https://colab.research.google.com/github/HeesangJin/ml_study/blob/main/cifar10_cnn_resnet_lab.ipynb\" target=\"_parent\"><img src=\"https://colab.research.google.com/assets/colab-badge.svg\" alt=\"Open In Colab\"/></a>"
      ]
    },
    {
      "cell_type": "code",
      "execution_count": null,
      "metadata": {
        "id": "dyhJWmumnhR8"
      },
      "outputs": [],
      "source": [
        "import torch\n",
        "import torch.nn as nn\n",
        "import torchvision\n",
        "import torchvision.transforms as transforms\n",
        "import numpy as np"
      ]
    },
    {
      "cell_type": "code",
      "source": [
        "device = 'cuda' if torch.cuda.is_available() else 'cpu'\n",
        "print(f'available device : %s' % device)\n",
        "torch.manual_seed(888)\n",
        "if device == 'cuda':\n",
        "  torch.cuda.manual_seed_all(888)"
      ],
      "metadata": {
        "colab": {
          "base_uri": "https://localhost:8080/"
        },
        "id": "gVGTl5Vgn_W1",
        "outputId": "8399e590-8c36-41bf-dd7c-48091fa09bf4"
      },
      "execution_count": null,
      "outputs": [
        {
          "output_type": "stream",
          "name": "stdout",
          "text": [
            "available device : cuda\n"
          ]
        }
      ]
    },
    {
      "cell_type": "code",
      "source": [
        "!nvidia-smi"
      ],
      "metadata": {
        "colab": {
          "base_uri": "https://localhost:8080/"
        },
        "id": "SCxUzeinoLsv",
        "outputId": "7b50f736-22b0-4e34-d2d4-c7dc820650b2"
      },
      "execution_count": null,
      "outputs": [
        {
          "output_type": "stream",
          "name": "stdout",
          "text": [
            "Sat Jul 16 09:12:08 2022       \n",
            "+-----------------------------------------------------------------------------+\n",
            "| NVIDIA-SMI 460.32.03    Driver Version: 460.32.03    CUDA Version: 11.2     |\n",
            "|-------------------------------+----------------------+----------------------+\n",
            "| GPU  Name        Persistence-M| Bus-Id        Disp.A | Volatile Uncorr. ECC |\n",
            "| Fan  Temp  Perf  Pwr:Usage/Cap|         Memory-Usage | GPU-Util  Compute M. |\n",
            "|                               |                      |               MIG M. |\n",
            "|===============================+======================+======================|\n",
            "|   0  Tesla T4            Off  | 00000000:00:04.0 Off |                    0 |\n",
            "| N/A   65C    P8    10W /  70W |      3MiB / 15109MiB |      0%      Default |\n",
            "|                               |                      |                  N/A |\n",
            "+-------------------------------+----------------------+----------------------+\n",
            "                                                                               \n",
            "+-----------------------------------------------------------------------------+\n",
            "| Processes:                                                                  |\n",
            "|  GPU   GI   CI        PID   Type   Process name                  GPU Memory |\n",
            "|        ID   ID                                                   Usage      |\n",
            "|=============================================================================|\n",
            "|  No running processes found                                                 |\n",
            "+-----------------------------------------------------------------------------+\n"
          ]
        }
      ]
    },
    {
      "cell_type": "markdown",
      "source": [
        "Image Preparation"
      ],
      "metadata": {
        "id": "TowTGpFBWo1Z"
      }
    },
    {
      "cell_type": "code",
      "source": [
        "batch_size = 4\n",
        "transform = transforms.Compose(\n",
        "    [transforms.ToTensor(),\n",
        "     transforms.RandomHorizontalFlip(),\n",
        "     transforms.Normalize((0.5, 0.5, 0.5), (0.5, 0.5, 0.5))])\n",
        "trainset = torchvision.datasets.CIFAR10(root='./data', train=True,\n",
        "                                        download=True, transform=transform)\n",
        "trainloader = torch.utils.data.DataLoader(trainset, batch_size=batch_size,\n",
        "                                          shuffle=True, num_workers=2)\n",
        "\n",
        "testset = torchvision.datasets.CIFAR10(root='./data', train=False,\n",
        "                                       download=True, transform=transform)\n",
        "testloader = torch.utils.data.DataLoader(testset, batch_size=batch_size,\n",
        "                                         shuffle=False, num_workers=2)\n",
        "\n",
        "classes = ('plane', 'car', 'bird', 'cat',\n",
        "           'deer', 'dog', 'frog', 'horse', 'ship', 'truck')\n",
        "\n",
        "print(f'total training samples : {batch_size * len(trainloader)}')\n",
        "print(f'total test samples : {batch_size * len(testloader)}')"
      ],
      "metadata": {
        "colab": {
          "base_uri": "https://localhost:8080/"
        },
        "id": "X6jrI4V0oyiy",
        "outputId": "c148b0e2-8d8b-4c79-9fea-abb739bccc41"
      },
      "execution_count": null,
      "outputs": [
        {
          "output_type": "stream",
          "name": "stdout",
          "text": [
            "Files already downloaded and verified\n",
            "Files already downloaded and verified\n",
            "total training samples : 50000\n",
            "total test samples : 10000\n"
          ]
        }
      ]
    },
    {
      "cell_type": "code",
      "source": [
        "import matplotlib.pyplot as plt\n",
        "import numpy as np\n",
        "\n",
        "def imshow(img):\n",
        "    img = img / 2 + 0.5\n",
        "    npimg = img.numpy()\n",
        "    plt.imshow(np.transpose(npimg, (1, 2, 0)))\n",
        "    \n",
        "dataiter = iter(trainloader)\n",
        "images, labels = dataiter.next()\n",
        "\n",
        "imshow(torchvision.utils.make_grid(images))\n",
        "print(''.join('%5s ' % classes[labels[j]] for j in range(4)))"
      ],
      "metadata": {
        "colab": {
          "base_uri": "https://localhost:8080/",
          "height": 156
        },
        "id": "rJ4uvMi0pT8K",
        "outputId": "ae8502dd-19b2-4f4d-c6a9-141db2ae6e4d"
      },
      "execution_count": null,
      "outputs": [
        {
          "output_type": "stream",
          "name": "stdout",
          "text": [
            " bird  deer  bird  bird \n"
          ]
        },
        {
          "output_type": "display_data",
          "data": {
            "text/plain": [
              "<Figure size 432x288 with 1 Axes>"
            ],
            "image/png": "[encoded data removed]"
          },
          "metadata": {
            "needs_background": "light"
          }
        }
      ]
    },
    {
      "cell_type": "markdown",
      "source": [
        "CNN"
      ],
      "metadata": {
        "id": "uw1CfjenWjJa"
      }
    },
    {
      "cell_type": "code",
      "source": [
        "class myNN(torch.nn.Module):\n",
        "    def __init__(self):\n",
        "        super(myNN, self).__init__()\n",
        "        # N, C, H, W\n",
        "        # intput = (N, 3,  32, 32)\n",
        "        # Conv  -> (N, 32, 32, 32)\n",
        "        # Relu  -> (N, 32, 32, 32)\n",
        "        # Pool  -> (N, 32, 16, 16)\n",
        "        self.conv1 = torch.nn.Conv2d(3, 32, kernel_size=3, stride=1, padding=1)\n",
        "        self.relu1 = torch.nn.ReLU()\n",
        "        self.pool1 = torch.nn.MaxPool2d(kernel_size=2, stride=2)\n",
        "        \n",
        "        # N, C, H, W\n",
        "        # input = (N, 32, 16, 16)\n",
        "        # Conv -> (N, 64, 16, 16)\n",
        "        # Relu -> (N, 64, 16, 16)\n",
        "        # Pool -> (N, 64, 8,  8 )\n",
        "        self.conv2 = torch.nn.Conv2d(32, 64, kernel_size=3, stride=1, padding=1)\n",
        "        self.relu2 = torch.nn.ReLU()\n",
        "        self.pool2 = torch.nn.MaxPool2d(kernel_size=2, stride=2)\n",
        "        \n",
        "        # Final FC: 8*8*64 -> 10 outputs\n",
        "        self.fc = torch.nn.Linear(8 * 8 * 64, 10, bias=True)\n",
        "        torch.nn.init.xavier_uniform_(self.fc.weight)\n",
        "        \n",
        "    def forward(self, x):\n",
        "        out = self.conv1(x)\n",
        "        out = self.relu1(out)\n",
        "        out = self.pool1(out)\n",
        "        \n",
        "        out = self.conv2(out)\n",
        "        out = self.relu2(out)\n",
        "        out = self.pool2(out)\n",
        "        \n",
        "        out = out.view(out.size(0), -1)\n",
        "        out = self.fc(out)\n",
        "        return out"
      ],
      "metadata": {
        "id": "ZvA83BV3pn1G"
      },
      "execution_count": null,
      "outputs": []
    },
    {
      "cell_type": "code",
      "source": [
        "model = myNN().to(device)"
      ],
      "metadata": {
        "id": "N2iCnJ6Lpp0k"
      },
      "execution_count": null,
      "outputs": []
    },
    {
      "cell_type": "code",
      "source": [
        "learning_rate = 0.001\n",
        "training_epochs = 2\n",
        "\n",
        "criterion = torch.nn.CrossEntropyLoss().to(device)\n",
        "optimizer = torch.optim.Adam(model.parameters(), lr=learning_rate)"
      ],
      "metadata": {
        "id": "jb_AMQFlprqK"
      },
      "execution_count": null,
      "outputs": []
    },
    {
      "cell_type": "code",
      "source": [
        "total_batch = len(trainloader)\n",
        "print(\"Training Start!\")\n",
        "\n",
        "for epoch in range(training_epochs):\n",
        "    running_loss = 0.0\n",
        "    for i, data in enumerate(trainloader, 0):\n",
        "        inputs, labels = data\n",
        "        inputs = inputs.to(device)\n",
        "        labels = labels.to(device)\n",
        "        \n",
        "        optimizer.zero_grad()\n",
        "        \n",
        "        outputs = model(inputs)\n",
        "        loss = criterion(outputs, labels)\n",
        "        loss.backward()\n",
        "        optimizer.step()\n",
        "        \n",
        "        running_loss += loss.item() / total_batch\n",
        "        \n",
        "    print('[Epoch: {:>4}] loss = {:>.9}'.format(epoch + 1, running_loss))\n",
        "print(\"Training Finished !\")"
      ],
      "metadata": {
        "colab": {
          "base_uri": "https://localhost:8080/"
        },
        "id": "JgOpP323ptCw",
        "outputId": "8a35cc7f-c30d-4d3a-c294-29515d1357ac"
      },
      "execution_count": null,
      "outputs": [
        {
          "output_type": "stream",
          "name": "stdout",
          "text": [
            "Training Start!\n",
            "[Epoch:    1] loss = 1.25356113\n",
            "[Epoch:    2] loss = 0.983239477\n",
            "Training Finished !\n"
          ]
        }
      ]
    },
    {
      "cell_type": "code",
      "source": [
        "dataiter = iter(testloader)\n",
        "images, lables = dataiter.next()\n",
        "\n",
        "imshow(torchvision.utils.make_grid(images))\n",
        "print('GroundTruth: ', ' '.join('%5s' % classes[labels[j]] for j in range(4)))"
      ],
      "metadata": {
        "colab": {
          "base_uri": "https://localhost:8080/",
          "height": 156
        },
        "id": "aG7QYPTwpuKc",
        "outputId": "42ac55bb-9368-434c-bc4c-4cc5479f59eb"
      },
      "execution_count": null,
      "outputs": [
        {
          "output_type": "stream",
          "name": "stdout",
          "text": [
            "GroundTruth:   frog  frog  ship horse\n"
          ]
        },
        {
          "output_type": "display_data",
          "data": {
            "text/plain": [
              "<Figure size 432x288 with 1 Axes>"
            ],
            "image/png": "[encoded data removed]"
          },
          "metadata": {
            "needs_background": "light"
          }
        }
      ]
    },
    {
      "cell_type": "code",
      "source": [
        "images = images.to(device)\n",
        "outputs = model(images)"
      ],
      "metadata": {
        "id": "rZw9MQn5qWPP"
      },
      "execution_count": null,
      "outputs": []
    },
    {
      "cell_type": "code",
      "source": [
        "print(outputs.shape)\n",
        "_, predicted = torch.max(outputs, 1)\n",
        "print('predicted: ', ' '.join('%5s' % classes[predicted[j]]\n",
        "                              for j in range(4)))"
      ],
      "metadata": {
        "colab": {
          "base_uri": "https://localhost:8080/"
        },
        "id": "ne2xJ_AVqX2u",
        "outputId": "8ca4a72b-c8d3-42fb-95a2-2d768e7ac2bd"
      },
      "execution_count": null,
      "outputs": [
        {
          "output_type": "stream",
          "name": "stdout",
          "text": [
            "torch.Size([4, 10])\n",
            "predicted:    cat  ship  ship  ship\n"
          ]
        }
      ]
    },
    {
      "cell_type": "code",
      "source": [
        "correct = 0\n",
        "total = 0\n",
        "with torch.no_grad():\n",
        "    for data in testloader:\n",
        "        images, labels = data\n",
        "        images = images.to(device)\n",
        "        labels = labels.to(device)\n",
        "        model.eval()\n",
        "        outputs = model(images)\n",
        "        _, predicted = torch.max(outputs.data, 1)\n",
        "        total += labels.size(0)\n",
        "        correct += (predicted == labels).sum().item()\n",
        "print('Accuracy of the network on the 10000 test images: %d %%' %(100 * correct/total))"
      ],
      "metadata": {
        "colab": {
          "base_uri": "https://localhost:8080/"
        },
        "id": "zeGYAHDhqY_1",
        "outputId": "85fc0548-19a7-4f67-ccc2-9ebc288b6db2"
      },
      "execution_count": null,
      "outputs": [
        {
          "output_type": "stream",
          "name": "stdout",
          "text": [
            "Accuracy of the network on the 10000 test images: 66 %\n"
          ]
        }
      ]
    },
    {
      "cell_type": "code",
      "source": [
        "class_correct = list(0. for i in(range(10)))\n",
        "class_total = list(0. for i in(range(10)))\n",
        "with torch.no_grad():\n",
        "    for data in testloader:\n",
        "        images, labels = data\n",
        "        images = images.to(device)\n",
        "        labels = labels.to(device)\n",
        "        model.eval()\n",
        "        outputs = model(images)\n",
        "        _, predicted = torch.max(outputs, 1)\n",
        "        c = (predicted == labels).squeeze()\n",
        "        for i in range(4):\n",
        "            label = labels[i]\n",
        "            class_correct[label] += c[i].item()\n",
        "            class_total[label] += 1\n",
        "            \n",
        "for i in range(10):\n",
        "    print('Accuracy of %5s: %2d %%' % (\n",
        "        classes[i], 100 * class_correct[i] / class_total[i]))"
      ],
      "metadata": {
        "colab": {
          "base_uri": "https://localhost:8080/"
        },
        "id": "077VFQAJqaF-",
        "outputId": "b281f30b-0a0c-4c36-dc3d-88d26ee2661c"
      },
      "execution_count": null,
      "outputs": [
        {
          "output_type": "stream",
          "name": "stdout",
          "text": [
            "Accuracy of plane: 58 %\n",
            "Accuracy of   car: 82 %\n",
            "Accuracy of  bird: 51 %\n",
            "Accuracy of   cat: 62 %\n",
            "Accuracy of  deer: 55 %\n",
            "Accuracy of   dog: 58 %\n",
            "Accuracy of  frog: 76 %\n",
            "Accuracy of horse: 64 %\n",
            "Accuracy of  ship: 84 %\n",
            "Accuracy of truck: 73 %\n"
          ]
        }
      ]
    },
    {
      "cell_type": "markdown",
      "source": [
        "ResNet"
      ],
      "metadata": {
        "id": "JcoGQ8odWgR4"
      }
    },
    {
      "cell_type": "code",
      "source": [
        "def conv3x3(in_planes, out_planes, stride=1, padding=1):\n",
        "    return nn.Conv2d(in_planes, out_planes, kernel_size=3, stride=stride,\n",
        "                     padding=padding, bias=False)\n",
        "\n",
        "def conv1x1(in_planes, out_planes, stride=1):\n",
        "    return nn.Conv2d(in_planes, out_planes, kernel_size=1, stride=stride,\n",
        "                     bias=False)"
      ],
      "metadata": {
        "id": "Mpxss2TLqbp8"
      },
      "execution_count": null,
      "outputs": []
    },
    {
      "cell_type": "code",
      "source": [
        "from torch.functional import norm\n",
        "class BasicBlock(nn.Module):\n",
        "  expansion = 1\n",
        "  def __init__(self, inplanes, planes, stride=1, downsample=None, \n",
        "               norm_layer=None):\n",
        "    super(BasicBlock, self).__init__()\n",
        "    if norm_layer is None:\n",
        "      norm_layer = nn.BatchNorm2d\n",
        "\n",
        "    self.conv1 = conv3x3(inplanes, planes, stride)\n",
        "    self.bn1 = norm_layer(planes)\n",
        "    self.relu = nn.ReLU(inplace=True)\n",
        "    self.conv2 = conv3x3(planes, planes)\n",
        "    self.bn2 = norm_layer(planes)\n",
        "    self.downsample = downsample\n",
        "    self.stride = stride\n",
        "\n",
        "  def forward(self, x):\n",
        "    identity = x\n",
        "\n",
        "    out = self.conv1(x) # 여기서 conv 설정에 따라서 H, W 가 반으로 줄음. 그땐 downsample 이 true\n",
        "    out = self.bn1(out)\n",
        "    out = self.relu(out)\n",
        "\n",
        "    out = self.conv2(out)\n",
        "    out = self.bn2(out)\n",
        "\n",
        "    if self.downsample is not None:\n",
        "      identity = self.downsample(x) # identity도 H, W 똑같이 줄여줌\n",
        "    # identity랑 out이랑 더하려면 C, H, W 가 똑같아야 하는데\n",
        "    # BasicBlock에서 C는 건들지 않았음\n",
        "    # H, W는 첫번째 cov3x3에서 stride에 따라 반으로 줄 수 있음. 아마 3,2,1 (stride = 2, padding = 1)\n",
        "    # O = (I - K + 2P) / S + 1\n",
        "    # O = (32 - 3 + 2*1) / 2 + 1\n",
        "    #   = 31 / 2 + 1 = 16 \n",
        "    # O = (32 - 5 + 4) / 2 + 1\n",
        "    #   = 31 / 2 + 1 = 16\n",
        "    # ImageSize 반으로 주는 CNN 조합 (3,2,1), (5,2,2), (7,2,3)\n",
        "    # ImageSize 그대로 되는 CNN 조합 (3,1,1), (5,1,2), (7,1,3)\n",
        "\n",
        "    # out 은 첫번째 conv3x3에서 W, H가 반으로 줄어들었음\n",
        "    # identity는 downsameple에서 W, H를 반으로 줄였음\n",
        "    out += identity\n",
        "    out = self.relu(out)\n",
        "\n",
        "    return out\n",
        "\n",
        "class Bottleneck(nn.Module):\n",
        "  expansion = 4\n",
        "\n",
        "  def __init__(self, inplanes, planes, stride=1, downsample=None,\n",
        "               norm_layer=None):\n",
        "    super(Bottleneck, self).__init__()\n",
        "    if norm_layer is None:\n",
        "      norm_layer = nn.BatchNorm2d\n",
        "    self.conv1 = conv1x1(inplanes, planes)\n",
        "    self.bn1 = norm_layer(planes)\n",
        "\n",
        "    self.conv2 = conv3x3(planes, planes, stride) # 여기서 identity의 W, H를 1/2로 줄임\n",
        "    self.bn2 = norm_layer(planes)\n",
        "\n",
        "    self.conv3 = conv1x1(planes, planes * self.expansion) # 여기서 channel 수를 expansion배 만큼 확장\n",
        "    self.bn3 = norm_layer(planes * self.expansion)\n",
        "    self.relu = nn.ReLU(inplace=True)\n",
        "    self.downsample = downsample # 여기서 identity의 W, H를 1/2로 줄임 -> 그래야 out + identity 가능하므로\n",
        "    self.stride = stride\n",
        "\n",
        "  def forward(self, x):\n",
        "    identity = x\n",
        "\n",
        "    out = self.conv1(x)\n",
        "    out = self.bn1(out)\n",
        "    out = self.relu(out)\n",
        "\n",
        "    out = self.conv2(out)\n",
        "    out = self.bn2(out)\n",
        "    out = self.relu(out)\n",
        "\n",
        "    out = self.conv3(out)\n",
        "    out = self.bn3(out)\n",
        "\n",
        "    if self.downsample is not None:\n",
        "      identity = self.downsample(x)\n",
        "\n",
        "    out += identity\n",
        "    out = self.relu(out)\n",
        "\n",
        "    return out\n",
        "\n",
        "class ResNet(nn.Module):\n",
        "  def __init__(self, block, layers, num_classes=10, norm_layer=None):\n",
        "    super(ResNet, self).__init__()\n",
        "    if norm_layer is None:\n",
        "      norm_layer = nn.BatchNorm2d\n",
        "    self._norm_layer = norm_layer\n",
        "\n",
        "    self.inplanes = 64 # 0번째 레이어(stem)를 지났을 때의 채널 크기\n",
        "    self.stem = nn.Sequential(\n",
        "        nn.Conv2d(3, self.inplanes, kernel_size=7, stride=1, padding=3, \n",
        "                  bias=False),\n",
        "        nn.ReLU(inplace=True)\n",
        "    )\n",
        "    # [stem] C: 3 -> 64, Resolution: 32 -> 32\n",
        "\n",
        "    self.stage2 = self._make_layer(block, 64, layers[0], stride=1) # resnet 네트워크 크기에 따라서 layer별 block 개수가 정해져있음 (논문 참조)\n",
        "    # [stage2] C: 64 -> 64, Resolution: 32 -> 32\n",
        "    self.stage3 = self._make_layer(block, 128, layers[1], stride=2)\n",
        "    # [stage3] C: 64 -> 128, Resolution: 32 -> 16\n",
        "    self.stage4 = self._make_layer(block, 256, layers[2], stride=2)\n",
        "    # [stage4] C: 128 -> 256, Resolution: 16 -> 8\n",
        "    self.stage5 = self._make_layer(block, 512, layers[3], stride=1)\n",
        "    # [stage4] C: 256 -> 512, Resolution: 8 -> 8\n",
        "    self.avgpool = nn.AdaptiveAvgPool2d((1,1)) # 채널 수는 냅두고 Resolution만 1x1로 줄여서 압축\n",
        "    self.fc = nn.Linear(512 * block.expansion, num_classes) # BottlenekBlock이면 x expansion 해줘야 함 (논문 참고)\n",
        "\n",
        "    for m in self.modules():\n",
        "      if isinstance(m, nn.Conv2d):\n",
        "        nn.init.kaiming_normal_(m.weight, mode='fan_out', nonlinearity='relu') \n",
        "      elif isinstance(m, (nn.BatchNorm2d, nn.GroupNorm)):\n",
        "        nn.init.constant_(m.weight, 1)\n",
        "        nn.init.constant_(m.bias, 0)\n",
        "\n",
        "  def _make_layer(self, block, planes, blocks, stride=1):\n",
        "    # 블록 종류, out channel size, 블록 개수, CNN stride\n",
        "    norm_layer = self._norm_layer\n",
        "    downsample = None\n",
        "\n",
        "    # downsample을 사용하는 경우 (아래 둘중 하나라도 만족하면 사용)\n",
        "    # 1) stride가 1이 아닌 경우 -> CNN을 통해서 resolution을 반으로 줄인다는 뜻이므로 identity의 resolution을 줄여야 함\n",
        "    # 2) input #C 가 output #C 와 다른 경우 -> 채널을 확장한다는 뜻이므로 identity의 채널도 확장해야 함\n",
        "    # 그니까 결국 downsmaple은 identity의 채널 수와 해상도를 CNN을 거친 x와 맞춰주는거임\n",
        "\n",
        "    # in_planes, mid_planes, out_planes로 나눠서 생각해야 함. 이 코드상으로는 \n",
        "    # in_planes, plance,     planes * expansion 으로 구현되어 있음 \n",
        "    # bottlenek 블록에서는 채널 수가 줄었다가 다시 복구되는 구조임\n",
        "    if stride != 1 or self.inplanes != planes * block.expansion:\n",
        "      downsample = nn.Sequential(\n",
        "          conv1x1(self.inplanes, planes * block.expansion, stride),\n",
        "          norm_layer(planes * block.expansion),\n",
        "      )\n",
        "\n",
        "    layers = []\n",
        "    layers.append(block(self.inplanes, planes, stride, downsample, norm_layer))\n",
        "    self.inplanes = planes * block.expansion \n",
        "    # 첫번째 블록에서 channel size, W, H 가 바뀌는데 같은 블록이 반복되므로 그대로 유지됨\n",
        "    # 그래서 첫번쨰 블록 이후에만 inplanes 를 업데이트 해주고 (2번째 부터는 어차피 똑같으므로)\n",
        "    # 두번째 블록부터는 stride, downsample도 사용안함 -> channel size, W, H가 똑같이 유지되므로\n",
        "    for _ in range(1, blocks): # 첫번째 블록은 빼고\n",
        "      layers.append(block(self.inplanes, planes, norm_layer=norm_layer))\n",
        "\n",
        "    return nn.Sequential(*layers)\n",
        "\n",
        "\n",
        "  def forward(self, x):\n",
        "    x = self.stem(x)\n",
        "    x = self.stage2(x)\n",
        "    x = self.stage3(x)\n",
        "    x = self.stage4(x)\n",
        "    x = self.stage5(x)\n",
        "\n",
        "    x = self.avgpool(x)\n",
        "    x = torch.flatten(x, start_dim=1) # B, C, H, W. # Batch 빼고 다 펴줌\n",
        "    x = self.fc(x)\n",
        "\n",
        "    return x\n",
        "\n",
        "def _resnet(block, layers):\n",
        "  model = ResNet(block, layers)\n",
        "  return model"
      ],
      "metadata": {
        "id": "iLw7gwKRqiwC"
      },
      "execution_count": null,
      "outputs": []
    },
    {
      "cell_type": "code",
      "source": [
        "def resnet11():\n",
        "    return _resnet( BasicBlock, [1, 1, 1, 1])\n",
        "\n",
        "def resnet18():\n",
        "    return _resnet( BasicBlock, [2, 2, 2, 2])\n",
        "\n",
        "def resnet34():\n",
        "    return _resnet( BasicBlock, [3, 4, 6, 3])\n",
        "\n",
        "def resnet50():\n",
        "    return _resnet( Bottleneck, [3, 4, 6, 3])\n",
        "\n",
        "def resnet101():\n",
        "    return _resnet( Bottleneck, [3, 4, 23, 3])"
      ],
      "metadata": {
        "id": "qKzIEqAhrq0g"
      },
      "execution_count": null,
      "outputs": []
    },
    {
      "cell_type": "code",
      "source": [
        "input_temp = torch.randn(1, 3, 32, 32) # 랜덤 이미지 1개\n",
        "model = resnet50()\n",
        "print(model)"
      ],
      "metadata": {
        "colab": {
          "base_uri": "https://localhost:8080/"
        },
        "id": "bN6BX8sALvTE",
        "outputId": "5b576928-dce3-47f9-eadf-89e130621de3"
      },
      "execution_count": null,
      "outputs": [
        {
          "output_type": "stream",
          "name": "stdout",
          "text": [
            "ResNet(\n",
            "  (stem): Sequential(\n",
            "    (0): Conv2d(3, 64, kernel_size=(7, 7), stride=(1, 1), padding=(3, 3), bias=False)\n",
            "    (1): ReLU(inplace=True)\n",
            "  )\n",
            "  (stage2): Sequential(\n",
            "    (0): Bottleneck(\n",
            "      (conv1): Conv2d(64, 64, kernel_size=(1, 1), stride=(1, 1), bias=False)\n",
            "      (bn1): BatchNorm2d(64, eps=1e-05, momentum=0.1, affine=True, track_running_stats=True)\n",
            "      (conv2): Conv2d(64, 64, kernel_size=(3, 3), stride=(1, 1), padding=(1, 1), bias=False)\n",
            "      (bn2): BatchNorm2d(64, eps=1e-05, momentum=0.1, affine=True, track_running_stats=True)\n",
            "      (conv3): Conv2d(64, 256, kernel_size=(1, 1), stride=(1, 1), bias=False)\n",
            "      (bn3): BatchNorm2d(256, eps=1e-05, momentum=0.1, affine=True, track_running_stats=True)\n",
            "      (relu): ReLU(inplace=True)\n",
            "      (downsample): Sequential(\n",
            "        (0): Conv2d(64, 256, kernel_size=(1, 1), stride=(1, 1), bias=False)\n",
            "        (1): BatchNorm2d(256, eps=1e-05, momentum=0.1, affine=True, track_running_stats=True)\n",
            "      )\n",
            "    )\n",
            "    (1): Bottleneck(\n",
            "      (conv1): Conv2d(256, 64, kernel_size=(1, 1), stride=(1, 1), bias=False)\n",
            "      (bn1): BatchNorm2d(64, eps=1e-05, momentum=0.1, affine=True, track_running_stats=True)\n",
            "      (conv2): Conv2d(64, 64, kernel_size=(3, 3), stride=(1, 1), padding=(1, 1), bias=False)\n",
            "      (bn2): BatchNorm2d(64, eps=1e-05, momentum=0.1, affine=True, track_running_stats=True)\n",
            "      (conv3): Conv2d(64, 256, kernel_size=(1, 1), stride=(1, 1), bias=False)\n",
            "      (bn3): BatchNorm2d(256, eps=1e-05, momentum=0.1, affine=True, track_running_stats=True)\n",
            "      (relu): ReLU(inplace=True)\n",
            "    )\n",
            "    (2): Bottleneck(\n",
            "      (conv1): Conv2d(256, 64, kernel_size=(1, 1), stride=(1, 1), bias=False)\n",
            "      (bn1): BatchNorm2d(64, eps=1e-05, momentum=0.1, affine=True, track_running_stats=True)\n",
            "      (conv2): Conv2d(64, 64, kernel_size=(3, 3), stride=(1, 1), padding=(1, 1), bias=False)\n",
            "      (bn2): BatchNorm2d(64, eps=1e-05, momentum=0.1, affine=True, track_running_stats=True)\n",
            "      (conv3): Conv2d(64, 256, kernel_size=(1, 1), stride=(1, 1), bias=False)\n",
            "      (bn3): BatchNorm2d(256, eps=1e-05, momentum=0.1, affine=True, track_running_stats=True)\n",
            "      (relu): ReLU(inplace=True)\n",
            "    )\n",
            "  )\n",
            "  (stage3): Sequential(\n",
            "    (0): Bottleneck(\n",
            "      (conv1): Conv2d(256, 128, kernel_size=(1, 1), stride=(1, 1), bias=False)\n",
            "      (bn1): BatchNorm2d(128, eps=1e-05, momentum=0.1, affine=True, track_running_stats=True)\n",
            "      (conv2): Conv2d(128, 128, kernel_size=(3, 3), stride=(2, 2), padding=(1, 1), bias=False)\n",
            "      (bn2): BatchNorm2d(128, eps=1e-05, momentum=0.1, affine=True, track_running_stats=True)\n",
            "      (conv3): Conv2d(128, 512, kernel_size=(1, 1), stride=(1, 1), bias=False)\n",
            "      (bn3): BatchNorm2d(512, eps=1e-05, momentum=0.1, affine=True, track_running_stats=True)\n",
            "      (relu): ReLU(inplace=True)\n",
            "      (downsample): Sequential(\n",
            "        (0): Conv2d(256, 512, kernel_size=(1, 1), stride=(2, 2), bias=False)\n",
            "        (1): BatchNorm2d(512, eps=1e-05, momentum=0.1, affine=True, track_running_stats=True)\n",
            "      )\n",
            "    )\n",
            "    (1): Bottleneck(\n",
            "      (conv1): Conv2d(512, 128, kernel_size=(1, 1), stride=(1, 1), bias=False)\n",
            "      (bn1): BatchNorm2d(128, eps=1e-05, momentum=0.1, affine=True, track_running_stats=True)\n",
            "      (conv2): Conv2d(128, 128, kernel_size=(3, 3), stride=(1, 1), padding=(1, 1), bias=False)\n",
            "      (bn2): BatchNorm2d(128, eps=1e-05, momentum=0.1, affine=True, track_running_stats=True)\n",
            "      (conv3): Conv2d(128, 512, kernel_size=(1, 1), stride=(1, 1), bias=False)\n",
            "      (bn3): BatchNorm2d(512, eps=1e-05, momentum=0.1, affine=True, track_running_stats=True)\n",
            "      (relu): ReLU(inplace=True)\n",
            "    )\n",
            "    (2): Bottleneck(\n",
            "      (conv1): Conv2d(512, 128, kernel_size=(1, 1), stride=(1, 1), bias=False)\n",
            "      (bn1): BatchNorm2d(128, eps=1e-05, momentum=0.1, affine=True, track_running_stats=True)\n",
            "      (conv2): Conv2d(128, 128, kernel_size=(3, 3), stride=(1, 1), padding=(1, 1), bias=False)\n",
            "      (bn2): BatchNorm2d(128, eps=1e-05, momentum=0.1, affine=True, track_running_stats=True)\n",
            "      (conv3): Conv2d(128, 512, kernel_size=(1, 1), stride=(1, 1), bias=False)\n",
            "      (bn3): BatchNorm2d(512, eps=1e-05, momentum=0.1, affine=True, track_running_stats=True)\n",
            "      (relu): ReLU(inplace=True)\n",
            "    )\n",
            "    (3): Bottleneck(\n",
            "      (conv1): Conv2d(512, 128, kernel_size=(1, 1), stride=(1, 1), bias=False)\n",
            "      (bn1): BatchNorm2d(128, eps=1e-05, momentum=0.1, affine=True, track_running_stats=True)\n",
            "      (conv2): Conv2d(128, 128, kernel_size=(3, 3), stride=(1, 1), padding=(1, 1), bias=False)\n",
            "      (bn2): BatchNorm2d(128, eps=1e-05, momentum=0.1, affine=True, track_running_stats=True)\n",
            "      (conv3): Conv2d(128, 512, kernel_size=(1, 1), stride=(1, 1), bias=False)\n",
            "      (bn3): BatchNorm2d(512, eps=1e-05, momentum=0.1, affine=True, track_running_stats=True)\n",
            "      (relu): ReLU(inplace=True)\n",
            "    )\n",
            "  )\n",
            "  (stage4): Sequential(\n",
            "    (0): Bottleneck(\n",
            "      (conv1): Conv2d(512, 256, kernel_size=(1, 1), stride=(1, 1), bias=False)\n",
            "      (bn1): BatchNorm2d(256, eps=1e-05, momentum=0.1, affine=True, track_running_stats=True)\n",
            "      (conv2): Conv2d(256, 256, kernel_size=(3, 3), stride=(2, 2), padding=(1, 1), bias=False)\n",
            "      (bn2): BatchNorm2d(256, eps=1e-05, momentum=0.1, affine=True, track_running_stats=True)\n",
            "      (conv3): Conv2d(256, 1024, kernel_size=(1, 1), stride=(1, 1), bias=False)\n",
            "      (bn3): BatchNorm2d(1024, eps=1e-05, momentum=0.1, affine=True, track_running_stats=True)\n",
            "      (relu): ReLU(inplace=True)\n",
            "      (downsample): Sequential(\n",
            "        (0): Conv2d(512, 1024, kernel_size=(1, 1), stride=(2, 2), bias=False)\n",
            "        (1): BatchNorm2d(1024, eps=1e-05, momentum=0.1, affine=True, track_running_stats=True)\n",
            "      )\n",
            "    )\n",
            "    (1): Bottleneck(\n",
            "      (conv1): Conv2d(1024, 256, kernel_size=(1, 1), stride=(1, 1), bias=False)\n",
            "      (bn1): BatchNorm2d(256, eps=1e-05, momentum=0.1, affine=True, track_running_stats=True)\n",
            "      (conv2): Conv2d(256, 256, kernel_size=(3, 3), stride=(1, 1), padding=(1, 1), bias=False)\n",
            "      (bn2): BatchNorm2d(256, eps=1e-05, momentum=0.1, affine=True, track_running_stats=True)\n",
            "      (conv3): Conv2d(256, 1024, kernel_size=(1, 1), stride=(1, 1), bias=False)\n",
            "      (bn3): BatchNorm2d(1024, eps=1e-05, momentum=0.1, affine=True, track_running_stats=True)\n",
            "      (relu): ReLU(inplace=True)\n",
            "    )\n",
            "    (2): Bottleneck(\n",
            "      (conv1): Conv2d(1024, 256, kernel_size=(1, 1), stride=(1, 1), bias=False)\n",
            "      (bn1): BatchNorm2d(256, eps=1e-05, momentum=0.1, affine=True, track_running_stats=True)\n",
            "      (conv2): Conv2d(256, 256, kernel_size=(3, 3), stride=(1, 1), padding=(1, 1), bias=False)\n",
            "      (bn2): BatchNorm2d(256, eps=1e-05, momentum=0.1, affine=True, track_running_stats=True)\n",
            "      (conv3): Conv2d(256, 1024, kernel_size=(1, 1), stride=(1, 1), bias=False)\n",
            "      (bn3): BatchNorm2d(1024, eps=1e-05, momentum=0.1, affine=True, track_running_stats=True)\n",
            "      (relu): ReLU(inplace=True)\n",
            "    )\n",
            "    (3): Bottleneck(\n",
            "      (conv1): Conv2d(1024, 256, kernel_size=(1, 1), stride=(1, 1), bias=False)\n",
            "      (bn1): BatchNorm2d(256, eps=1e-05, momentum=0.1, affine=True, track_running_stats=True)\n",
            "      (conv2): Conv2d(256, 256, kernel_size=(3, 3), stride=(1, 1), padding=(1, 1), bias=False)\n",
            "      (bn2): BatchNorm2d(256, eps=1e-05, momentum=0.1, affine=True, track_running_stats=True)\n",
            "      (conv3): Conv2d(256, 1024, kernel_size=(1, 1), stride=(1, 1), bias=False)\n",
            "      (bn3): BatchNorm2d(1024, eps=1e-05, momentum=0.1, affine=True, track_running_stats=True)\n",
            "      (relu): ReLU(inplace=True)\n",
            "    )\n",
            "    (4): Bottleneck(\n",
            "      (conv1): Conv2d(1024, 256, kernel_size=(1, 1), stride=(1, 1), bias=False)\n",
            "      (bn1): BatchNorm2d(256, eps=1e-05, momentum=0.1, affine=True, track_running_stats=True)\n",
            "      (conv2): Conv2d(256, 256, kernel_size=(3, 3), stride=(1, 1), padding=(1, 1), bias=False)\n",
            "      (bn2): BatchNorm2d(256, eps=1e-05, momentum=0.1, affine=True, track_running_stats=True)\n",
            "      (conv3): Conv2d(256, 1024, kernel_size=(1, 1), stride=(1, 1), bias=False)\n",
            "      (bn3): BatchNorm2d(1024, eps=1e-05, momentum=0.1, affine=True, track_running_stats=True)\n",
            "      (relu): ReLU(inplace=True)\n",
            "    )\n",
            "    (5): Bottleneck(\n",
            "      (conv1): Conv2d(1024, 256, kernel_size=(1, 1), stride=(1, 1), bias=False)\n",
            "      (bn1): BatchNorm2d(256, eps=1e-05, momentum=0.1, affine=True, track_running_stats=True)\n",
            "      (conv2): Conv2d(256, 256, kernel_size=(3, 3), stride=(1, 1), padding=(1, 1), bias=False)\n",
            "      (bn2): BatchNorm2d(256, eps=1e-05, momentum=0.1, affine=True, track_running_stats=True)\n",
            "      (conv3): Conv2d(256, 1024, kernel_size=(1, 1), stride=(1, 1), bias=False)\n",
            "      (bn3): BatchNorm2d(1024, eps=1e-05, momentum=0.1, affine=True, track_running_stats=True)\n",
            "      (relu): ReLU(inplace=True)\n",
            "    )\n",
            "  )\n",
            "  (stage5): Sequential(\n",
            "    (0): Bottleneck(\n",
            "      (conv1): Conv2d(1024, 512, kernel_size=(1, 1), stride=(1, 1), bias=False)\n",
            "      (bn1): BatchNorm2d(512, eps=1e-05, momentum=0.1, affine=True, track_running_stats=True)\n",
            "      (conv2): Conv2d(512, 512, kernel_size=(3, 3), stride=(1, 1), padding=(1, 1), bias=False)\n",
            "      (bn2): BatchNorm2d(512, eps=1e-05, momentum=0.1, affine=True, track_running_stats=True)\n",
            "      (conv3): Conv2d(512, 2048, kernel_size=(1, 1), stride=(1, 1), bias=False)\n",
            "      (bn3): BatchNorm2d(2048, eps=1e-05, momentum=0.1, affine=True, track_running_stats=True)\n",
            "      (relu): ReLU(inplace=True)\n",
            "      (downsample): Sequential(\n",
            "        (0): Conv2d(1024, 2048, kernel_size=(1, 1), stride=(1, 1), bias=False)\n",
            "        (1): BatchNorm2d(2048, eps=1e-05, momentum=0.1, affine=True, track_running_stats=True)\n",
            "      )\n",
            "    )\n",
            "    (1): Bottleneck(\n",
            "      (conv1): Conv2d(2048, 512, kernel_size=(1, 1), stride=(1, 1), bias=False)\n",
            "      (bn1): BatchNorm2d(512, eps=1e-05, momentum=0.1, affine=True, track_running_stats=True)\n",
            "      (conv2): Conv2d(512, 512, kernel_size=(3, 3), stride=(1, 1), padding=(1, 1), bias=False)\n",
            "      (bn2): BatchNorm2d(512, eps=1e-05, momentum=0.1, affine=True, track_running_stats=True)\n",
            "      (conv3): Conv2d(512, 2048, kernel_size=(1, 1), stride=(1, 1), bias=False)\n",
            "      (bn3): BatchNorm2d(2048, eps=1e-05, momentum=0.1, affine=True, track_running_stats=True)\n",
            "      (relu): ReLU(inplace=True)\n",
            "    )\n",
            "    (2): Bottleneck(\n",
            "      (conv1): Conv2d(2048, 512, kernel_size=(1, 1), stride=(1, 1), bias=False)\n",
            "      (bn1): BatchNorm2d(512, eps=1e-05, momentum=0.1, affine=True, track_running_stats=True)\n",
            "      (conv2): Conv2d(512, 512, kernel_size=(3, 3), stride=(1, 1), padding=(1, 1), bias=False)\n",
            "      (bn2): BatchNorm2d(512, eps=1e-05, momentum=0.1, affine=True, track_running_stats=True)\n",
            "      (conv3): Conv2d(512, 2048, kernel_size=(1, 1), stride=(1, 1), bias=False)\n",
            "      (bn3): BatchNorm2d(2048, eps=1e-05, momentum=0.1, affine=True, track_running_stats=True)\n",
            "      (relu): ReLU(inplace=True)\n",
            "    )\n",
            "  )\n",
            "  (avgpool): AdaptiveAvgPool2d(output_size=(1, 1))\n",
            "  (fc): Linear(in_features=2048, out_features=10, bias=True)\n",
            ")\n"
          ]
        }
      ]
    },
    {
      "cell_type": "code",
      "source": [
        "def compute_params(model):\n",
        "  return format(np.sum([p.numel() for p in model.parameters()]).item(), \",\")\n",
        "\n",
        "print(compute_params(model)) # resnet 모델의 총 파라미터 개수"
      ],
      "metadata": {
        "colab": {
          "base_uri": "https://localhost:8080/"
        },
        "id": "i7p6xldaL4Z6",
        "outputId": "aec1ddb2-2917-4b90-ab0a-36f7f60ec772"
      },
      "execution_count": null,
      "outputs": [
        {
          "output_type": "stream",
          "name": "stdout",
          "text": [
            "23,528,394\n"
          ]
        }
      ]
    },
    {
      "cell_type": "code",
      "source": [
        "def do_train(model, trainloader, init_lr=0.1, training_epochs=10, step=3):\n",
        "  model = model.to(device)\n",
        "\n",
        "  criterion = torch.nn.CrossEntropyLoss().to(device) # Softmax 내장되어 있음\n",
        "  optimizer = torch.optim.Adam(model.parameters(), lr=init_lr)\n",
        "  if step == 0:\n",
        "    pass\n",
        "  else:\n",
        "    lr_scheduler = torch.optim.lr_scheduler.StepLR(optimizer, step_size=step, gamma=0.1) \n",
        "    # 10번 epoch 돌리면서, 3 step마다 lr을 10%씩 곱해서 learning함\n",
        "\n",
        "  print(\"Traning start!\")\n",
        "\n",
        "  for epoch in range(training_epochs):\n",
        "    running_loss = 0.0\n",
        "    for i, data in enumerate(trainloader, 0):\n",
        "      inputs, labels = data\n",
        "      inputs = inputs.to(device)\n",
        "      labels = labels.to(device)\n",
        "\n",
        "      optimizer.zero_grad() # set gradients to zero\n",
        "\n",
        "      outputs = model(inputs)\n",
        "      loss = criterion(outputs, labels)\n",
        "      loss.backward()\n",
        "      optimizer.step()\n",
        "\n",
        "      running_loss += loss.item()\n",
        "      if i % 2000 == 1999:\n",
        "        print('[%d, %5d] lr: %.6f loss: %.3f' %\n",
        "              (epoch + 1, i + 1, lr_scheduler.get_last_lr()[0], running_loss / 2000))\n",
        "        running_loss = 0.0 # 2000번 반복마다의 running_loss 평균값을 구함\n",
        "\n",
        "    lr_scheduler.step() # 1 epoch 끝나면 step값 업데이트  \n",
        "  \n",
        "  print(\"Training finished!\")\n",
        "    \n"
      ],
      "metadata": {
        "id": "qH0Gp2aEM_Mm"
      },
      "execution_count": null,
      "outputs": []
    },
    {
      "cell_type": "code",
      "source": [
        "model = resnet11()\n",
        "do_train(model, trainloader, init_lr=0.01, training_epochs=10, step=3)"
      ],
      "metadata": {
        "colab": {
          "base_uri": "https://localhost:8080/"
        },
        "id": "REWQNBhSPxmW",
        "outputId": "dacf6afa-1a47-4712-bb9d-b33f3515d52d"
      },
      "execution_count": null,
      "outputs": [
        {
          "output_type": "stream",
          "name": "stdout",
          "text": [
            "Traning start!\n",
            "[1,  2000] lr: 0.010000 loss: 2.121\n",
            "[1,  4000] lr: 0.010000 loss: 1.878\n",
            "[1,  6000] lr: 0.010000 loss: 1.762\n",
            "[1,  8000] lr: 0.010000 loss: 1.658\n",
            "[1, 10000] lr: 0.010000 loss: 1.543\n",
            "[1, 12000] lr: 0.010000 loss: 1.465\n",
            "[2,  2000] lr: 0.010000 loss: 1.360\n",
            "[2,  4000] lr: 0.010000 loss: 1.295\n",
            "[2,  6000] lr: 0.010000 loss: 1.231\n",
            "[2,  8000] lr: 0.010000 loss: 1.194\n",
            "[2, 10000] lr: 0.010000 loss: 1.123\n",
            "[2, 12000] lr: 0.010000 loss: 1.064\n",
            "[3,  2000] lr: 0.010000 loss: 0.993\n",
            "[3,  4000] lr: 0.010000 loss: 0.967\n",
            "[3,  6000] lr: 0.010000 loss: 0.945\n",
            "[3,  8000] lr: 0.010000 loss: 0.945\n",
            "[3, 10000] lr: 0.010000 loss: 0.879\n",
            "[3, 12000] lr: 0.010000 loss: 0.885\n",
            "[4,  2000] lr: 0.001000 loss: 0.703\n",
            "[4,  4000] lr: 0.001000 loss: 0.667\n",
            "[4,  6000] lr: 0.001000 loss: 0.645\n",
            "[4,  8000] lr: 0.001000 loss: 0.641\n",
            "[4, 10000] lr: 0.001000 loss: 0.637\n",
            "[4, 12000] lr: 0.001000 loss: 0.644\n",
            "[5,  2000] lr: 0.001000 loss: 0.610\n",
            "[5,  4000] lr: 0.001000 loss: 0.589\n",
            "[5,  6000] lr: 0.001000 loss: 0.599\n",
            "[5,  8000] lr: 0.001000 loss: 0.606\n",
            "[5, 10000] lr: 0.001000 loss: 0.590\n",
            "[5, 12000] lr: 0.001000 loss: 0.586\n",
            "[6,  2000] lr: 0.001000 loss: 0.565\n",
            "[6,  4000] lr: 0.001000 loss: 0.566\n",
            "[6,  6000] lr: 0.001000 loss: 0.548\n",
            "[6,  8000] lr: 0.001000 loss: 0.563\n",
            "[6, 10000] lr: 0.001000 loss: 0.562\n",
            "[6, 12000] lr: 0.001000 loss: 0.560\n",
            "[7,  2000] lr: 0.000100 loss: 0.523\n",
            "[7,  4000] lr: 0.000100 loss: 0.516\n",
            "[7,  6000] lr: 0.000100 loss: 0.526\n",
            "[7,  8000] lr: 0.000100 loss: 0.517\n",
            "[7, 10000] lr: 0.000100 loss: 0.517\n",
            "[7, 12000] lr: 0.000100 loss: 0.529\n",
            "[8,  2000] lr: 0.000100 loss: 0.513\n",
            "[8,  4000] lr: 0.000100 loss: 0.522\n",
            "[8,  6000] lr: 0.000100 loss: 0.506\n",
            "[8,  8000] lr: 0.000100 loss: 0.508\n",
            "[8, 10000] lr: 0.000100 loss: 0.519\n",
            "[8, 12000] lr: 0.000100 loss: 0.498\n",
            "[9,  2000] lr: 0.000100 loss: 0.514\n",
            "[9,  4000] lr: 0.000100 loss: 0.506\n",
            "[9,  6000] lr: 0.000100 loss: 0.501\n",
            "[9,  8000] lr: 0.000100 loss: 0.519\n",
            "[9, 10000] lr: 0.000100 loss: 0.511\n",
            "[9, 12000] lr: 0.000100 loss: 0.522\n",
            "[10,  2000] lr: 0.000010 loss: 0.515\n",
            "[10,  4000] lr: 0.000010 loss: 0.507\n",
            "[10,  6000] lr: 0.000010 loss: 0.499\n",
            "[10,  8000] lr: 0.000010 loss: 0.511\n",
            "[10, 10000] lr: 0.000010 loss: 0.504\n",
            "[10, 12000] lr: 0.000010 loss: 0.493\n",
            "Training finished!\n"
          ]
        }
      ]
    },
    {
      "cell_type": "code",
      "source": [
        "def do_validate(model, testloader):\n",
        "  correct = 0\n",
        "  total = 0\n",
        "  model.eval()\n",
        "  with torch.no_grad():\n",
        "    for data in testloader:\n",
        "      images, labels = data\n",
        "      images = images.to(device)\n",
        "      labels = labels.to(device)\n",
        "\n",
        "      outputs = model(images)\n",
        "      _, predicted = torch.max(outputs.data, 1)\n",
        "      total += labels.size(0)\n",
        "      correct += (predicted == labels).sum().item()\n",
        "\n",
        "  print('Accuracy of the network on the 10000 test images: %d %%' % ( 100 * correct/total))"
      ],
      "metadata": {
        "id": "aJ-E1mBMSlqo"
      },
      "execution_count": null,
      "outputs": []
    },
    {
      "cell_type": "code",
      "source": [
        "do_validate(model, testloader)"
      ],
      "metadata": {
        "colab": {
          "base_uri": "https://localhost:8080/"
        },
        "id": "27NnUScKY8ZO",
        "outputId": "187738d7-ca52-4fb0-b9db-e763ac9362d6"
      },
      "execution_count": null,
      "outputs": [
        {
          "output_type": "stream",
          "name": "stdout",
          "text": [
            "Accuracy of the network on the 10000 test images: 78 %\n"
          ]
        }
      ]
    },
    {
      "cell_type": "markdown",
      "source": [
        "VoVNet"
      ],
      "metadata": {
        "id": "1USzjXRNWcZX"
      }
    },
    {
      "cell_type": "code",
      "source": [
        "def conv3x3_bn_relu(in_planes, out_planes, stride=1, padding=1):\n",
        "  return nn.Sequential(\n",
        "      nn.Conv2d(in_planes)\n",
        "  )"
      ],
      "metadata": {
        "id": "51sv-SOjWart"
      },
      "execution_count": null,
      "outputs": []
    }
  ]
}